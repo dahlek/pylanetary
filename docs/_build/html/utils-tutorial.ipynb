{
 "cells": [
  {
   "cell_type": "markdown",
   "id": "32bbcf29",
   "metadata": {},
   "source": [
    "# Utils Tutorial"
   ]
  },
  {
   "cell_type": "code",
   "execution_count": 1,
   "id": "b0055d49",
   "metadata": {},
   "outputs": [],
   "source": [
    "# imports\n",
    "from pylanetary.utils import *\n",
    "import numpy as np\n",
    "import matplotlib.pyplot as plt"
   ]
  },
  {
   "cell_type": "markdown",
   "id": "e58e99c7",
   "metadata": {},
   "source": [
    "## unit conversions"
   ]
  },
  {
   "cell_type": "code",
   "execution_count": 2,
   "id": "06662d80",
   "metadata": {},
   "outputs": [
    {
     "name": "stdout",
     "output_type": "stream",
     "text": [
      "Result is 0.17426102873442623 Jy/beam\n",
      "which translates to 40851198324.166 Jy/sr.\n",
      "The above is using the Rayleigh-Jeans approximation, and could have been done in one step: 40822885793.88541 Jy/sr\n",
      "Using the full Planck function we get: 39704080358.999504 Jy/sr\n",
      "The angular area of the beam is 0.18129440567308777 arcsec^2 assuming Gaussian shape\n"
     ]
    }
   ],
   "source": [
    "Tb = 100 #K\n",
    "freq = 115.271 #GHz\n",
    "beamx = 0.4 #arcsec\n",
    "beamy = beamx\n",
    "\n",
    "jybm = tb_to_jybm(Tb, freq, beamx, beamy)\n",
    "print(f'Result is {jybm} Jy/beam')\n",
    "\n",
    "jysr = jybm_to_jysr(jybm, beamx, beamy)\n",
    "print(f'which translates to {jysr} Jy/sr.')\n",
    "\n",
    "jysr_rj = rayleigh_jeans(Tb, freq)\n",
    "print(f'The above is using the Rayleigh-Jeans approximation, and could have been done in one step: {jysr_rj} Jy/sr')\n",
    "\n",
    "jysr = planck(Tb, freq)\n",
    "print(f'Using the full Planck function we get: {jysr} Jy/sr')\n",
    "\n",
    "beamA = beam_area(beamx, beamy)\n",
    "print(f'The angular area of the beam is {beamA} arcsec^2 assuming Gaussian shape')\n",
    "\n"
   ]
  },
  {
   "cell_type": "markdown",
   "id": "ef08acf5",
   "metadata": {},
   "source": [
    "## I/F calculation\n",
    "\n",
    "definition from Hammel et al 1989, DOI:10.1016/0019-1035(89)90149-8\n",
    "\n",
    "Let's calculate the I/F of Proteus in H-band from a measurement in erg s-1 cm-2 um-1.\n",
    "\n"
   ]
  },
  {
   "cell_type": "code",
   "execution_count": 3,
   "id": "960b4d4a",
   "metadata": {},
   "outputs": [
    {
     "name": "stdout",
     "output_type": "stream",
     "text": [
      "Proteus solid angle is 6.55e-15 sr = 0.000278 arcsec^2\n"
     ]
    },
    {
     "data": {
      "image/png": "[encoded data removed]",
      "text/plain": [
       "<Figure size 432x288 with 1 Axes>"
      ]
     },
     "metadata": {
      "needs_background": "light"
     },
     "output_type": "display_data"
    },
    {
     "name": "stdout",
     "output_type": "stream",
     "text": [
      "Proteus I/F at 1.60 um = 0.11\n"
     ]
    }
   ],
   "source": [
    "observed_flux = 7e-14 #erg s-1 cm-2 um-1\n",
    "neptune_earth_dist = 4.6e9 #km\n",
    "neptune_sun_dist = 4.3e9 #km\n",
    "\n",
    "r = 210 #km; radius of Proteus\n",
    "dS = np.pi*r**2\n",
    "\n",
    "# find the solid angle of Proteus\n",
    "Omega = solid_angle(dS, neptune_earth_dist)\n",
    "print(f'Proteus solid angle is {Omega:.2e} sr = {Omega*4.25e10:.6f} arcsec^2')\n",
    "\n",
    "# example transmission curve for roughly H-band\n",
    "wls = np.linspace(1.2, 2.0, 100) #microns\n",
    "trans = np.zeros(wls.shape)\n",
    "trans[wls < 1.75] = 1.0\n",
    "trans[wls < 1.45] = 0.0\n",
    "bp = np.array([wls, trans])\n",
    "\n",
    "plt.plot(wls, trans)\n",
    "plt.xlabel(r'Wavelength ($\\mu$m)')\n",
    "plt.ylabel('Transmission')\n",
    "plt.show()\n",
    "\n",
    "# find I/F in that filter\n",
    "wl_eff, IoverF = I_over_F(observed_flux, bp, neptune_sun_dist/1.5e8, Omega)\n",
    "print(f'Proteus I/F at {wl_eff:.2f} um = {IoverF:.2f}')"
   ]
  },
  {
   "cell_type": "markdown",
   "id": "76c07f7b",
   "metadata": {},
   "source": [
    "## The Body utility for planet/moon attributes\n",
    "\n",
    "Given the name of a planet or large moon, load static data like mass, equatorial and polar radii, orbital parameters. Also load an ephemeris from Horizons."
   ]
  },
  {
   "cell_type": "code",
   "execution_count": 4,
   "id": "9210d119",
   "metadata": {},
   "outputs": [
    {
     "name": "stdout",
     "output_type": "stream",
     "text": [
      "Jupiter has equatorial, polar radii 71492.0 km, 66854.0 km\n",
      "Jupiter has a 9.925 h sidereal day\n"
     ]
    }
   ],
   "source": [
    "jup = Body('Jupiter')\n",
    "print(f'{jup.name} has equatorial, polar radii {jup.req}, {jup.rpol}')\n",
    "print(f'{jup.name} has a {jup.t_rot_hrs} sidereal day')"
   ]
  },
  {
   "cell_type": "code",
   "execution_count": 5,
   "id": "8c8cbc61",
   "metadata": {},
   "outputs": [
    {
     "name": "stdout",
     "output_type": "stream",
     "text": [
      "  targetname      datetime_str        datetime_jd    solar_presence lunar_presence    RA      DEC     RA_app  DEC_app  RA_rate    DEC_rate   AZ  EL   AZ_rate      EL_rate      sat_X      sat_Y   sat_PANG siderealtime airmass magextinct   V      surfbright  illumination illum_defect sat_sep  sat_vis ang_width  PDObsLon  PDObsLat  PDSunLon  PDSunLat SubSol_ang SubSol_dist NPole_ang NPole_dist  EclLon  EclLat       r          r_rate       delta        delta_rate  lighttime   vel_sun    vel_obs    elong   elongFlag  alpha  lunar_elong lunar_illum sat_alpha sunTargetPA velocityPA OrbPlaneAng constellation   TDB-UT  ObsEclLon ObsEclLat   NPole_RA NPole_DEC   GlxLon     GlxLat   solartime earth_lighttime RA_3sigma DEC_3sigma SMAA_3sigma SMIA_3sigma Theta_3sigma Area_3sigma RSS_3sigma r_3sigma r_rate_3sigma SBand_3sigma XBand_3sigma DoppDelay_3sigma true_anom hour_angle alpha_true  PABLon  PABLat\n",
      "     ---              ---                  d              ---            ---         deg      deg      deg      deg   arcsec / h arcsec / h deg deg arcsec / min arcsec / min   arcsec     arcsec    deg         h         ---      mag      mag   mag / arcsec2      %          arcsec     arcsec    ---     arcsec     deg       deg       deg       deg       deg        arcsec      deg      arcsec     deg     deg         AU         km / s         AU           km / s       min       km / s     km / s     deg       ---      deg       deg          %         deg        deg        deg         deg          ---          s        deg       deg        deg       deg       deg        deg         h           min         arcsec    arcsec      arcsec      arcsec       deg        arcsec2     arcsec      km        km / s         Hz           Hz             s            deg        h         deg       deg     deg  \n",
      "------------- -------------------- ----------------- -------------- -------------- -------- -------- -------- ------- ---------- ---------- --- --- ------------ ------------ ---------- --------- -------- ------------ ------- ---------- ------ ------------- ------------ ------------ -------- ------- --------- ---------- -------- ---------- -------- ---------- ----------- --------- ---------- ------- ------- -------------- --------- ---------------- ----------- ----------- ---------- ---------- -------- --------- ------- ----------- ----------- --------- ----------- ---------- ----------- ------------- --------- --------- ---------- --------- --------- ---------- ---------- --------- --------------- --------- ---------- ----------- ----------- ------------ ----------- ---------- -------- ------------- ------------ ------------ ---------------- --------- ---------- ---------- ------- -------\n",
      "Jupiter (599) 2023-Aug-27 21:16:14 2460184.386273148                               43.08396 15.13178 43.41099 15.2294   3.768455   0.628637  --  --           --           -- -400056.46 19132.599  289.969           --     999         -- -2.556         5.358      99.0638       0.4061 391899.0       *  43.37403 172.679298 3.828957 183.797149 3.470775      73.64        4.18  342.3435     20.235 34.0487 -1.1952 4.964904491942 0.2177477 4.54524552110738 -24.9001155 37.80165431 13.6749375 25.1445703 108.8608        /L 11.1068       115.9     85.2622   60.0323     253.554    252.316     0.23345           Ari 69.182719  45.48364 -1.3033406 268.05805  64.49679 161.353279 -38.556696        --             0.0        --         --          --          --           --          --         --       --            --           --           --               --   19.7846         --     11.105 39.5995 -1.2564\n"
     ]
    }
   ],
   "source": [
    "# assumes datetime.now() and center of earth\n",
    "print(jup.ephem)"
   ]
  },
  {
   "cell_type": "markdown",
   "id": "ef5bbca6",
   "metadata": {},
   "source": [
    "This ephemeris assumes we wanted the results right now as observed at the center of mass of Earth.  If we instead wanted to observe from the VLA site at the time of the first SL9 impact, we could say:"
   ]
  },
  {
   "cell_type": "code",
   "execution_count": 6,
   "id": "30d6e637",
   "metadata": {},
   "outputs": [
    {
     "name": "stdout",
     "output_type": "stream",
     "text": [
      "  targetname     datetime_str      datetime_jd    solar_presence lunar_presence     RA       DEC      RA_app   DEC_app   RA_rate    DEC_rate      AZ         EL      AZ_rate      EL_rate      sat_X      sat_Y    sat_PANG siderealtime airmass magextinct   V     surfbright  illumination illum_defect sat_sep  sat_vis ang_width  PDObsLon  PDObsLat PDSunLon PDSunLat SubSol_ang SubSol_dist NPole_ang NPole_dist  EclLon  EclLat       r          r_rate        delta       delta_rate  lighttime   vel_sun   vel_obs    elong   elongFlag alpha  lunar_elong lunar_illum sat_alpha sunTargetPA velocityPA OrbPlaneAng constellation   TDB-UT   ObsEclLon  ObsEclLat  NPole_RA NPole_DEC   GlxLon     GlxLat    solartime   earth_lighttime RA_3sigma DEC_3sigma SMAA_3sigma SMIA_3sigma Theta_3sigma Area_3sigma RSS_3sigma r_3sigma r_rate_3sigma SBand_3sigma XBand_3sigma DoppDelay_3sigma true_anom  hour_angle  alpha_true  PABLon PABLat\n",
      "     ---             ---                d              ---            ---          deg       deg       deg       deg    arcsec / h arcsec / h    deg        deg    arcsec / min arcsec / min   arcsec     arcsec     deg         h         ---      mag      mag  mag / arcsec2      %          arcsec     arcsec    ---     arcsec     deg       deg      deg      deg       deg        arcsec      deg      arcsec     deg     deg         AU         km / s          AU          km / s       min       km / s    km / s     deg       ---     deg       deg          %         deg        deg        deg         deg          ---          s         deg        deg       deg       deg       deg        deg          h             min         arcsec    arcsec      arcsec      arcsec       deg        arcsec2     arcsec      km        km / s         Hz           Hz             s            deg         h          deg       deg    deg  \n",
      "------------- ----------------- ----------------- -------------- -------------- --------- --------- --------- --------- ---------- ---------- ---------- --------- ------------ ------------ ---------- ---------- -------- ------------ ------- ---------- ----- ------------- ------------ ------------ -------- ------- --------- --------- --------- -------- -------- ---------- ----------- --------- ---------- -------- ------ -------------- ---------- ---------------- ---------- ----------- --------- ---------- -------- --------- ------ ----------- ----------- --------- ----------- ---------- ----------- ------------- --------- ----------- --------- --------- --------- ---------- --------- ------------- --------------- --------- ---------- ----------- ----------- ------------ ----------- ---------- -------- ------------- ------------ ------------ ---------------- --------- ------------ ---------- ------- ------\n",
      "Jupiter (599) 1994-Jul-16 20:13 2449550.342361111              *                213.25946 -12.18286 213.19106 -12.15803   5.902723   -2.87891 103.892463 -1.205187       501.78       725.51 326174.133 -120437.47   98.876 8.6713333887     999         -- -2.11         5.541     99.14532       0.3284 363714.1       *  38.42845 81.605459 -3.417513 70.98207 -3.56489     289.67        3.54   20.6435    -17.936 225.7758 1.0648 5.417202860036 -0.3161016 5.13020024376608 25.7802051 42.66657439 12.534906 26.6589241 101.0317        /T 10.608       2.924     59.9989   68.3603     109.651     289.99     0.06118           Vir 61.183653 215.0912804  1.124912 268.05799   64.4958 332.296937 45.984193 12.9415708964        0.000354        --         --          --          --           --          --         --       --            --           --           --               --  210.4525 -5.541404253     10.609 220.468 1.0993\n"
     ]
    }
   ],
   "source": [
    "jup = Body('Jupiter', epoch='1994-07-16 20:13', location='VLA')\n",
    "print(jup.ephem)"
   ]
  }
 ],
 "metadata": {
  "kernelspec": {
   "display_name": "Python 3 (ipykernel)",
   "language": "python",
   "name": "python3"
  },
  "language_info": {
   "codemirror_mode": {
    "name": "ipython",
    "version": 3
   },
   "file_extension": ".py",
   "mimetype": "text/x-python",
   "name": "python",
   "nbconvert_exporter": "python",
   "pygments_lexer": "ipython3",
   "version": "3.9.7"
  }
 },
 "nbformat": 4,
 "nbformat_minor": 5
}
