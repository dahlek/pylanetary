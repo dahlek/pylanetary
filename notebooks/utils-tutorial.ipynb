{
 "cells": [
  {
   "cell_type": "code",
   "execution_count": 1,
   "id": "5b4ca817",
   "metadata": {},
   "outputs": [],
   "source": [
    "from pylanetary.utils import *\n",
    "import numpy as np\n",
    "import matplotlib.pyplot as plt"
   ]
  },
  {
   "cell_type": "markdown",
   "id": "765b9421",
   "metadata": {},
   "source": [
    "## unit conversions"
   ]
  },
  {
   "cell_type": "code",
   "execution_count": 18,
   "id": "c14e536b",
   "metadata": {},
   "outputs": [
    {
     "name": "stdout",
     "output_type": "stream",
     "text": [
      "Result is 0.003485220574688525 Jy/beam\n",
      "which translates to 817023966.4833202 Jy/sr\n",
      "using RJ approx 816457715.8777081 Jy/sr\n",
      "This could have been done in one step to get 151602242.81402525 Jy/sr\n",
      "The angular area of the beam is 0.18129440567308777 arcsec^2 assuming Gaussian shape\n"
     ]
    }
   ],
   "source": [
    "Tb = 100 #K\n",
    "freq = 115.271 #GHz\n",
    "beamx = 0.4 #arcsec\n",
    "beamy = beamx\n",
    "\n",
    "jybm = tb_to_jybm(Tb, freq, beamx, beamy)\n",
    "print(f'Result is {jybm} Jy/beam')\n",
    "\n",
    "jysr = jybm_to_jysr(jybm, beamx, beamy)\n",
    "print(f'which translates to {jysr} Jy/sr.')\n",
    "\n",
    "jysr_rj = rayleigh_jeans(Tb, freq)\n",
    "print(f'The above is using the Rayleigh-Jeans approximation, and could have been done in one step: {jysr_rj} Jy/sr')\n",
    "\n",
    "jysr = planck(Tb, freq)\n",
    "print(f'Using the full Planck function we get: {jysr} Jy/sr')\n",
    "\n",
    "beamA = beam_area(beamx, beamy)\n",
    "print(f'The angular area of the beam is {beamA} arcsec^2 assuming Gaussian shape')\n",
    "\n"
   ]
  },
  {
   "cell_type": "markdown",
   "id": "0e6910d0",
   "metadata": {},
   "source": [
    "## I/F calculation\n",
    "\n",
    "definition from Hammel et al 1989, DOI:10.1016/0019-1035(89)90149-8\n",
    "\n",
    "Let's calculate the I/F of Proteus in H-band from a measurement in erg s-1 cm-2 um-1.\n",
    "\n"
   ]
  },
  {
   "cell_type": "code",
   "execution_count": 28,
   "id": "66df09eb",
   "metadata": {},
   "outputs": [
    {
     "name": "stdout",
     "output_type": "stream",
     "text": [
      "Proteus solid angle is 6.55e-15 sr = 0.000278 arcsec^2\n",
      "Proteus I/F at 1.60 um = 0.11\n"
     ]
    }
   ],
   "source": [
    "observed_flux = 7e-14 #erg s-1 cm-2 um-1\n",
    "neptune_earth_dist = 4.6e9 #km\n",
    "neptune_sun_dist = 4.3e9 #km\n",
    "\n",
    "r = 210 #km; radius of Proteus\n",
    "dS = np.pi*r**2\n",
    "\n",
    "# find the solid angle of Proteus\n",
    "Omega = solid_angle(dS, neptune_earth_dist)\n",
    "print(f'Proteus solid angle is {Omega:.2e} sr = {Omega*4.25e10:.6f} arcsec^2')\n",
    "\n",
    "# example transmission curve for roughly H-band\n",
    "wls = np.linspace(1.2, 2.0, 100) #microns\n",
    "trans = np.zeros(wls.shape)\n",
    "trans[wls < 1.75] = 1.0\n",
    "trans[wls < 1.45] = 0.0\n",
    "bp = np.array([wls, trans])\n",
    "\n",
    "#plt.plot(wls, trans)\n",
    "#plt.xlabel(r'Wavelength ($\\mu$m)')\n",
    "#plt.ylabel('Transmission')\n",
    "#plt.show()\n",
    "\n",
    "# find I/F in that filter\n",
    "wl_eff, IoverF = I_over_F(observed_flux, bp, neptune_sun_dist/1.5e8, Omega)\n",
    "print(f'Proteus I/F at {wl_eff:.2f} um = {IoverF:.2f}')"
   ]
  },
  {
   "cell_type": "code",
   "execution_count": null,
   "id": "f3776a49",
   "metadata": {},
   "outputs": [],
   "source": []
  }
 ],
 "metadata": {
  "kernelspec": {
   "display_name": "Python 3 (ipykernel)",
   "language": "python",
   "name": "python3"
  },
  "language_info": {
   "codemirror_mode": {
    "name": "ipython",
    "version": 3
   },
   "file_extension": ".py",
   "mimetype": "text/x-python",
   "name": "python",
   "nbconvert_exporter": "python",
   "pygments_lexer": "ipython3",
   "version": "3.9.7"
  }
 },
 "nbformat": 4,
 "nbformat_minor": 5
}
